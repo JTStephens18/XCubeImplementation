{
  "nbformat": 4,
  "nbformat_minor": 0,
  "metadata": {
    "colab": {
      "provenance": [],
      "authorship_tag": "ABX9TyMiQqbHHgVsbI2t1w46J7QB",
      "include_colab_link": true
    },
    "kernelspec": {
      "name": "python3",
      "display_name": "Python 3"
    },
    "language_info": {
      "name": "python"
    }
  },
  "cells": [
    {
      "cell_type": "markdown",
      "metadata": {
        "id": "view-in-github",
        "colab_type": "text"
      },
      "source": [
        "<a href=\"https://colab.research.google.com/github/JTStephens18/XCubeImplementation/blob/main/XCube.ipynb\" target=\"_parent\"><img src=\"https://colab.research.google.com/assets/colab-badge.svg\" alt=\"Open In Colab\"/></a>"
      ]
    },
    {
      "cell_type": "code",
      "source": [
        "! pip install torchinfo"
      ],
      "metadata": {
        "colab": {
          "base_uri": "https://localhost:8080/"
        },
        "id": "oxmjozp5Eg3U",
        "outputId": "50e561a6-46be-4bb1-9d7a-68b8f1a0e81d"
      },
      "execution_count": 184,
      "outputs": [
        {
          "output_type": "stream",
          "name": "stdout",
          "text": [
            "Collecting torchinfo\n",
            "  Downloading torchinfo-1.8.0-py3-none-any.whl (23 kB)\n",
            "Installing collected packages: torchinfo\n",
            "Successfully installed torchinfo-1.8.0\n"
          ]
        }
      ]
    },
    {
      "cell_type": "code",
      "source": [
        "import numpy as np\n",
        "\n",
        "import torch\n",
        "import torch.nn as nn\n",
        "import torch.nn.functional as F\n",
        "\n",
        "from torchinfo import summary"
      ],
      "metadata": {
        "id": "z0T6sq64Nmwe"
      },
      "execution_count": 185,
      "outputs": []
    },
    {
      "cell_type": "markdown",
      "source": [
        "# Binvox Processor"
      ],
      "metadata": {
        "id": "48AHxXuo2uEG"
      }
    },
    {
      "cell_type": "code",
      "execution_count": 3,
      "metadata": {
        "colab": {
          "base_uri": "https://localhost:8080/"
        },
        "id": "XqzCErGE2r4R",
        "outputId": "1c7f1521-962c-494a-d12e-5e53a0fb2af3"
      },
      "outputs": [
        {
          "output_type": "stream",
          "name": "stderr",
          "text": [
            "<ipython-input-3-ef32016758ed>:203: DeprecationWarning: `np.int` is a deprecated alias for the builtin `int`. To silence this warning, use `int` by itself. Doing this will not modify any behavior and is safe. When replacing `np.int`, you may wish to use e.g. `np.int64` or `np.int32` to specify the precision. If you wish to review your current use, check the release note link for additional information.\n",
            "Deprecated in NumPy 1.20; for more details and guidance: https://numpy.org/devdocs/release/1.20.0-notes.html#deprecations\n",
            "  def dense_to_sparse(voxel_data, dtype=np.int):\n",
            "<ipython-input-3-ef32016758ed>:211: DeprecationWarning: `np.bool` is a deprecated alias for the builtin `bool`. To silence this warning, use `bool` by itself. Doing this will not modify any behavior and is safe. If you specifically wanted the numpy scalar type, use `np.bool_` here.\n",
            "Deprecated in NumPy 1.20; for more details and guidance: https://numpy.org/devdocs/release/1.20.0-notes.html#deprecations\n",
            "  def sparse_to_dense(voxel_data, dims, dtype=np.bool):\n"
          ]
        }
      ],
      "source": [
        "#  Copyright (C) 2012 Daniel Maturana\n",
        "#  This file is part of binvox-rw-py.\n",
        "#\n",
        "#  binvox-rw-py is free software: you can redistribute it and/or modify\n",
        "#  it under the terms of the GNU General Public License as published by\n",
        "#  the Free Software Foundation, either version 3 of the License, or\n",
        "#  (at your option) any later version.\n",
        "#\n",
        "#  binvox-rw-py is distributed in the hope that it will be useful,\n",
        "#  but WITHOUT ANY WARRANTY; without even the implied warranty of\n",
        "#  MERCHANTABILITY or FITNESS FOR A PARTICULAR PURPOSE.  See the\n",
        "#  GNU General Public License for more details.\n",
        "#\n",
        "#  You should have received a copy of the GNU General Public License\n",
        "#  along with binvox-rw-py. If not, see <http://www.gnu.org/licenses/>.\n",
        "#\n",
        "\n",
        "\"\"\"\n",
        "Binvox to Numpy and back.\n",
        "\n",
        "\n",
        ">>> import numpy as np\n",
        ">>> import binvox_rw\n",
        ">>> with open('chair.binvox', 'rb') as f:\n",
        "...     m1 = binvox_rw.read_as_3d_array(f)\n",
        "...\n",
        ">>> m1.dims\n",
        "[32, 32, 32]\n",
        ">>> m1.scale\n",
        "41.133000000000003\n",
        ">>> m1.translate\n",
        "[0.0, 0.0, 0.0]\n",
        ">>> with open('chair_out.binvox', 'wb') as f:\n",
        "...     m1.write(f)\n",
        "...\n",
        ">>> with open('chair_out.binvox', 'rb') as f:\n",
        "...     m2 = binvox_rw.read_as_3d_array(f)\n",
        "...\n",
        ">>> m1.dims==m2.dims\n",
        "True\n",
        ">>> m1.scale==m2.scale\n",
        "True\n",
        ">>> m1.translate==m2.translate\n",
        "True\n",
        ">>> np.all(m1.data==m2.data)\n",
        "True\n",
        "\n",
        ">>> with open('chair.binvox', 'rb') as f:\n",
        "...     md = binvox_rw.read_as_3d_array(f)\n",
        "...\n",
        ">>> with open('chair.binvox', 'rb') as f:\n",
        "...     ms = binvox_rw.read_as_coord_array(f)\n",
        "...\n",
        ">>> data_ds = binvox_rw.dense_to_sparse(md.data)\n",
        ">>> data_sd = binvox_rw.sparse_to_dense(ms.data, 32)\n",
        ">>> np.all(data_sd==md.data)\n",
        "True\n",
        ">>> # the ordering of elements returned by numpy.nonzero changes with axis\n",
        ">>> # ordering, so to compare for equality we first lexically sort the voxels.\n",
        ">>> np.all(ms.data[:, np.lexsort(ms.data)] == data_ds[:, np.lexsort(data_ds)])\n",
        "True\n",
        "\"\"\"\n",
        "\n",
        "import numpy as np\n",
        "\n",
        "class Voxels(object):\n",
        "    \"\"\" Holds a binvox model.\n",
        "    data is either a three-dimensional numpy boolean array (dense representation)\n",
        "    or a two-dimensional numpy float array (coordinate representation).\n",
        "\n",
        "    dims, translate and scale are the model metadata.\n",
        "\n",
        "    dims are the voxel dimensions, e.g. [32, 32, 32] for a 32x32x32 model.\n",
        "\n",
        "    scale and translate relate the voxels to the original model coordinates.\n",
        "\n",
        "    To translate voxel coordinates i, j, k to original coordinates x, y, z:\n",
        "\n",
        "    x_n = (i+.5)/dims[0]\n",
        "    y_n = (j+.5)/dims[1]\n",
        "    z_n = (k+.5)/dims[2]\n",
        "    x = scale*x_n + translate[0]\n",
        "    y = scale*y_n + translate[1]\n",
        "    z = scale*z_n + translate[2]\n",
        "\n",
        "    \"\"\"\n",
        "\n",
        "    def __init__(self, data, dims, translate, scale, axis_order):\n",
        "        self.data = data\n",
        "        self.dims = dims\n",
        "        self.translate = translate\n",
        "        self.scale = scale\n",
        "        assert (axis_order in ('xzy', 'xyz'))\n",
        "        self.axis_order = axis_order\n",
        "\n",
        "    def clone(self):\n",
        "        data = self.data.copy()\n",
        "        dims = self.dims[:]\n",
        "        translate = self.translate[:]\n",
        "        return Voxels(data, dims, translate, self.scale, self.axis_order)\n",
        "\n",
        "    def write(self, fp):\n",
        "        write(self, fp)\n",
        "\n",
        "def read_header(fp):\n",
        "    \"\"\" Read binvox header. Mostly meant for internal use.\n",
        "    \"\"\"\n",
        "    line = fp.readline().strip()\n",
        "    if not line.startswith(b'#binvox'):\n",
        "        raise IOError('Not a binvox file')\n",
        "    dims = list(map(int, fp.readline().strip().split(b' ')[1:]))\n",
        "    translate = list(map(float, fp.readline().strip().split(b' ')[1:]))\n",
        "    scale = list(map(float, fp.readline().strip().split(b' ')[1:]))[0]\n",
        "    line = fp.readline()\n",
        "    return dims, translate, scale\n",
        "\n",
        "def read_as_3d_array(fp, fix_coords=True):\n",
        "    \"\"\" Read binary binvox format as array.\n",
        "\n",
        "    Returns the model with accompanying metadata.\n",
        "\n",
        "    Voxels are stored in a three-dimensional numpy array, which is simple and\n",
        "    direct, but may use a lot of memory for large models. (Storage requirements\n",
        "    are 8*(d^3) bytes, where d is the dimensions of the binvox model. Numpy\n",
        "    boolean arrays use a byte per element).\n",
        "\n",
        "    Doesn't do any checks on input except for the '#binvox' line.\n",
        "    \"\"\"\n",
        "    dims, translate, scale = read_header(fp)\n",
        "    raw_data = np.frombuffer(fp.read(), dtype=np.uint8)\n",
        "    # if just using reshape() on the raw data:\n",
        "    # indexing the array as array[i,j,k], the indices map into the\n",
        "    # coords as:\n",
        "    # i -> x\n",
        "    # j -> z\n",
        "    # k -> y\n",
        "    # if fix_coords is true, then data is rearranged so that\n",
        "    # mapping is\n",
        "    # i -> x\n",
        "    # j -> y\n",
        "    # k -> z\n",
        "    values, counts = raw_data[::2], raw_data[1::2]\n",
        "    data = np.repeat(values, counts).astype(np.bool)\n",
        "    data = data.reshape(dims)\n",
        "    if fix_coords:\n",
        "        # xzy to xyz TODO the right thing\n",
        "        data = np.transpose(data, (0, 2, 1))\n",
        "        axis_order = 'xyz'\n",
        "    else:\n",
        "        axis_order = 'xzy'\n",
        "    return Voxels(data, dims, translate, scale, axis_order)\n",
        "\n",
        "def read_as_coord_array(fp, fix_coords=True):\n",
        "    \"\"\" Read binary binvox format as coordinates.\n",
        "\n",
        "    Returns binvox model with voxels in a \"coordinate\" representation, i.e.  an\n",
        "    3 x N array where N is the number of nonzero voxels. Each column\n",
        "    corresponds to a nonzero voxel and the 3 rows are the (x, z, y) coordinates\n",
        "    of the voxel.  (The odd ordering is due to the way binvox format lays out\n",
        "    data).  Note that coordinates refer to the binvox voxels, without any\n",
        "    scaling or translation.\n",
        "\n",
        "    Use this to save memory if your model is very sparse (mostly empty).\n",
        "\n",
        "    Doesn't do any checks on input except for the '#binvox' line.\n",
        "    \"\"\"\n",
        "    dims, translate, scale = read_header(fp)\n",
        "    raw_data = np.frombuffer(fp.read(), dtype=np.uint8)\n",
        "\n",
        "    values, counts = raw_data[::2], raw_data[1::2]\n",
        "\n",
        "    sz = np.prod(dims)\n",
        "    index, end_index = 0, 0\n",
        "    end_indices = np.cumsum(counts)\n",
        "    indices = np.concatenate(([0], end_indices[:-1])).astype(end_indices.dtype)\n",
        "\n",
        "    values = values.astype(np.bool)\n",
        "    indices = indices[values]\n",
        "    end_indices = end_indices[values]\n",
        "\n",
        "    nz_voxels = []\n",
        "    for index, end_index in zip(indices, end_indices):\n",
        "        nz_voxels.extend(range(index, end_index))\n",
        "    nz_voxels = np.array(nz_voxels)\n",
        "    # TODO are these dims correct?\n",
        "    # according to docs,\n",
        "    # index = x * wxh + z * width + y; // wxh = width * height = d * d\n",
        "\n",
        "    x = nz_voxels / (dims[0]*dims[1])\n",
        "    zwpy = nz_voxels % (dims[0]*dims[1]) # z*w + y\n",
        "    z = zwpy / dims[0]\n",
        "    y = zwpy % dims[0]\n",
        "    if fix_coords:\n",
        "        data = np.vstack((x, y, z))\n",
        "        axis_order = 'xyz'\n",
        "    else:\n",
        "        data = np.vstack((x, z, y))\n",
        "        axis_order = 'xzy'\n",
        "\n",
        "    #return Voxels(data, dims, translate, scale, axis_order)\n",
        "    return Voxels(np.ascontiguousarray(data), dims, translate, scale, axis_order)\n",
        "\n",
        "def dense_to_sparse(voxel_data, dtype=np.int):\n",
        "    \"\"\" From dense representation to sparse (coordinate) representation.\n",
        "    No coordinate reordering.\n",
        "    \"\"\"\n",
        "    if voxel_data.ndim!=3:\n",
        "        raise ValueError('voxel_data is wrong shape; should be 3D array.')\n",
        "    return np.asarray(np.nonzero(voxel_data), dtype)\n",
        "\n",
        "def sparse_to_dense(voxel_data, dims, dtype=np.bool):\n",
        "    if voxel_data.ndim!=2 or voxel_data.shape[0]!=3:\n",
        "        raise ValueError('voxel_data is wrong shape; should be 3xN array.')\n",
        "    if np.isscalar(dims):\n",
        "        dims = [dims]*3\n",
        "    dims = np.atleast_2d(dims).T\n",
        "    # truncate to integers\n",
        "    xyz = voxel_data.astype(np.int)\n",
        "    # discard voxels that fall outside dims\n",
        "    valid_ix = ~np.any((xyz < 0) | (xyz >= dims), 0)\n",
        "    xyz = xyz[:,valid_ix]\n",
        "    out = np.zeros(dims.flatten(), dtype=dtype)\n",
        "    out[tuple(xyz)] = True\n",
        "    return out\n",
        "\n",
        "#def get_linear_index(x, y, z, dims):\n",
        "    #\"\"\" Assuming xzy order. (y increasing fastest.\n",
        "    #TODO ensure this is right when dims are not all same\n",
        "    #\"\"\"\n",
        "    #return x*(dims[1]*dims[2]) + z*dims[1] + y\n",
        "\n",
        "def write(voxel_model, fp):\n",
        "    \"\"\" Write binary binvox format.\n",
        "\n",
        "    Note that when saving a model in sparse (coordinate) format, it is first\n",
        "    converted to dense format.\n",
        "\n",
        "    Doesn't check if the model is 'sane'.\n",
        "\n",
        "    \"\"\"\n",
        "    if voxel_model.data.ndim==2:\n",
        "        # TODO avoid conversion to dense\n",
        "        dense_voxel_data = sparse_to_dense(voxel_model.data, voxel_model.dims)\n",
        "    else:\n",
        "        dense_voxel_data = voxel_model.data\n",
        "\n",
        "    fp.write('#binvox 1\\n')\n",
        "    fp.write('dim '+' '.join(map(str, voxel_model.dims))+'\\n')\n",
        "    fp.write('translate '+' '.join(map(str, voxel_model.translate))+'\\n')\n",
        "    fp.write('scale '+str(voxel_model.scale)+'\\n')\n",
        "    fp.write('data\\n')\n",
        "    if not voxel_model.axis_order in ('xzy', 'xyz'):\n",
        "        raise ValueError('Unsupported voxel model axis order')\n",
        "\n",
        "    if voxel_model.axis_order=='xzy':\n",
        "        voxels_flat = dense_voxel_data.flatten()\n",
        "    elif voxel_model.axis_order=='xyz':\n",
        "        voxels_flat = np.transpose(dense_voxel_data, (0, 2, 1)).flatten()\n",
        "\n",
        "    # keep a sort of state machine for writing run length encoding\n",
        "    state = voxels_flat[0]\n",
        "    ctr = 0\n",
        "    for c in voxels_flat:\n",
        "        if c==state:\n",
        "            ctr += 1\n",
        "            # if ctr hits max, dump\n",
        "            if ctr==255:\n",
        "                fp.write(chr(state))\n",
        "                fp.write(chr(ctr))\n",
        "                ctr = 0\n",
        "        else:\n",
        "            # if switch state, dump\n",
        "            fp.write(chr(state))\n",
        "            fp.write(chr(ctr))\n",
        "            state = c\n",
        "            ctr = 1\n",
        "    # flush out remainders\n",
        "    if ctr > 0:\n",
        "        fp.write(chr(state))\n",
        "        fp.write(chr(ctr))\n",
        "\n",
        "\n",
        "    import doctest\n",
        "    doctest.testmod()"
      ]
    },
    {
      "cell_type": "markdown",
      "source": [
        "# Experiments"
      ],
      "metadata": {
        "id": "1BenglLENjH3"
      }
    },
    {
      "cell_type": "code",
      "source": [
        "with open('model_normalized.solid.binvox', 'rb') as f:\n",
        "  model = read_as_3d_array(f)\n",
        "\n",
        "print(model.dims)\n",
        "\n",
        "# print(model.data)\n",
        "\n",
        "def convert_boolean(array):\n",
        "  result_arr = array.astype(float)\n",
        "  return result_arr\n",
        "\n",
        "newModel = convert_boolean(model.data)\n",
        "print(newModel[0][98])\n",
        "print(newModel.shape)"
      ],
      "metadata": {
        "colab": {
          "base_uri": "https://localhost:8080/"
        },
        "id": "YhFlJ_Ml22Q9",
        "outputId": "a241d190-6fca-4fd7-c4cb-76a67d16b249"
      },
      "execution_count": 59,
      "outputs": [
        {
          "output_type": "stream",
          "name": "stdout",
          "text": [
            "[128, 128, 128]\n",
            "[0. 0. 0. 0. 0. 0. 0. 0. 0. 0. 0. 0. 0. 0. 0. 0. 1. 1. 1. 1. 1. 1. 1. 1.\n",
            " 1. 1. 1. 1. 1. 1. 1. 0. 0. 0. 0. 0. 0. 0. 0. 0. 0. 0. 0. 0. 0. 0. 0. 0.\n",
            " 0. 0. 0. 0. 0. 0. 0. 0. 0. 0. 0. 0. 0. 0. 0. 0. 0. 0. 0. 0. 0. 0. 0. 0.\n",
            " 0. 0. 0. 0. 0. 0. 0. 0. 0. 0. 0. 0. 0. 0. 0. 0. 0. 0. 0. 0. 0. 0. 0. 0.\n",
            " 0. 0. 0. 0. 0. 0. 0. 0. 0. 0. 0. 0. 0. 0. 0. 0. 0. 0. 0. 0. 0. 0. 0. 0.\n",
            " 0. 0. 0. 0. 0. 0. 0. 0.]\n",
            "(128, 128, 128)\n"
          ]
        },
        {
          "output_type": "stream",
          "name": "stderr",
          "text": [
            "<ipython-input-3-ef32016758ed>:143: DeprecationWarning: `np.bool` is a deprecated alias for the builtin `bool`. To silence this warning, use `bool` by itself. Doing this will not modify any behavior and is safe. If you specifically wanted the numpy scalar type, use `np.bool_` here.\n",
            "Deprecated in NumPy 1.20; for more details and guidance: https://numpy.org/devdocs/release/1.20.0-notes.html#deprecations\n",
            "  data = np.repeat(values, counts).astype(np.bool)\n"
          ]
        }
      ]
    },
    {
      "cell_type": "code",
      "source": [
        "device = torch.device(\"cuda\" if torch.cuda.is_available() else \"cpu\")"
      ],
      "metadata": {
        "id": "6B1a2fi9Ycdw"
      },
      "execution_count": 206,
      "outputs": []
    },
    {
      "cell_type": "code",
      "source": [
        "class Encoder(nn.Module):\n",
        "  def __init__(self, in_size, trg_size):\n",
        "    super(Encoder, self).__init__()\n",
        "\n",
        "  # Initial downsampling layer to convert 128^3 into 16^3\n",
        "    self.conv_layer_1 = self._conv_layer_set(1, 1, 4, 2, 1, maxPool=True)\n",
        "    # self.conv_layer_2 = self._conv_layer_set(1,1,1,2,0)\n",
        "    # self.conv_layer_2 = self._conv_layer_set(trg_size*8, trg_size*4, 4, 2, 1)\n",
        "    # self.conv_layer_3 = self._conv_layer_set(trg_size*4, trg_size*2, 4, 2, 1)\n",
        "    # self.conv_layer_4 = self._conv_layer_set(trg_size*2, trg_size, 3, 2, 1)\n",
        "\n",
        "# Set of convolutions to convert bottleneck tensor into latent tensor of the same shape\n",
        "    self.latent_conv_1 = self._conv_transpose_layer_set(1, 64, 4, 2, 1)\n",
        "    self.latent_conv_2 = self._conv_transpose_layer_set(64, 128, 4, 2, 1)\n",
        "    self.latent_conv_3 = self._conv_layer_set(128, 64, 4, 2, 1, maxPool=False)\n",
        "    self.latent_conv_4 = self._conv_layer_set(64, 1, 4, 2, 1, maxPool=False)\n",
        "    self.flatten = nn.Flatten()\n",
        "\n",
        "  # 16^3 = 4096\n",
        "    self.z_mean = nn.Linear(4096, 3)\n",
        "    self.z_log_var = nn.Linear(4096, 3)\n",
        "\n",
        "\n",
        "\n",
        "  def _conv_layer_set(self, in_c, out_c, kernel_size, stride, padding, maxPool):\n",
        "    if(maxPool == True):\n",
        "      conv_layer = nn.Sequential(\n",
        "          nn.Conv3d(in_c, out_c, kernel_size, stride, padding),\n",
        "          nn.MaxPool3d(1, kernel_size)\n",
        "      )\n",
        "    else:\n",
        "      conv_layer = nn.Sequential(\n",
        "          nn.Conv3d(in_c, out_c, kernel_size, stride, padding)\n",
        "      )\n",
        "    return conv_layer\n",
        "\n",
        "\n",
        "  def _conv_transpose_layer_set(self, in_c, out_c, kernel_size, stride, padding):\n",
        "    conv_layer = nn.Sequential(\n",
        "        nn.ConvTranspose3d(in_c, out_c, kernel_size, stride, padding)\n",
        "    )\n",
        "    return conv_layer\n",
        "\n",
        "\n",
        "  def reparameterize(self, z_mu, z_log_var):\n",
        "    eps = torch.randn(z_mu.size(0), z_mu.size(1)).to(device)\n",
        "    z = z_mu + eps * torch.exp(z_log_var/2.)\n",
        "    return z\n",
        "\n",
        "\n",
        "  def forward(self, x):\n",
        "    # bn - bottleneck\n",
        "    bn = self.conv_layer_1(x)\n",
        "\n",
        "    out = self.latent_conv_1(bn)\n",
        "    out = self.latent_conv_2(out)\n",
        "    out = self.latent_conv_3(out)\n",
        "    out = self.latent_conv_4(out)\n",
        "    latent_vec = self.flatten(out)\n",
        "    z_mean, z_log_var = self.z_mean(latent_vec), self.z_log_var(latent_vec)\n",
        "    z = self.reparameterize(z_mean, z_log_var)\n",
        "    return out, z_mean, z_log_var, z"
      ],
      "metadata": {
        "id": "0L3kOPEH3P1K"
      },
      "execution_count": 207,
      "outputs": []
    },
    {
      "cell_type": "code",
      "source": [
        "encoder = Encoder(128, 16)\n",
        "input = torch.from_numpy(newModel).unsqueeze(0).float()\n",
        "print(input.shape)\n",
        "# input = input.float()\n",
        "output, z_mean, z_log_var, z = encoder(input)"
      ],
      "metadata": {
        "colab": {
          "base_uri": "https://localhost:8080/"
        },
        "id": "gLgf8D00VzOX",
        "outputId": "29969055-916a-4d6f-dd62-1eceffaf6b1a"
      },
      "execution_count": 209,
      "outputs": [
        {
          "output_type": "stream",
          "name": "stdout",
          "text": [
            "torch.Size([1, 128, 128, 128])\n"
          ]
        }
      ]
    },
    {
      "cell_type": "code",
      "source": [
        "print(output.shape)\n",
        "print(z_mean)\n",
        "print(z_log_var)\n",
        "print(z)"
      ],
      "metadata": {
        "colab": {
          "base_uri": "https://localhost:8080/"
        },
        "id": "9ASv99_CV6SA",
        "outputId": "8e975ecf-f74b-4162-f76d-1aae264e830e"
      },
      "execution_count": 212,
      "outputs": [
        {
          "output_type": "stream",
          "name": "stdout",
          "text": [
            "torch.Size([1, 16, 16, 16])\n",
            "tensor([[ 0.0122, -0.0006,  0.0202]], grad_fn=<AddmmBackward0>)\n",
            "tensor([[-0.0147,  0.0037,  0.0062]], grad_fn=<AddmmBackward0>)\n",
            "tensor([[ 0.0261, -1.5908, -1.3901]], grad_fn=<AddBackward0>)\n"
          ]
        }
      ]
    },
    {
      "cell_type": "code",
      "source": [
        "summary(encoder, input_size=(1, 128, 128, 128))"
      ],
      "metadata": {
        "colab": {
          "base_uri": "https://localhost:8080/"
        },
        "id": "KGYau6J5EkuM",
        "outputId": "c2f2de11-e2e9-4d69-922d-1029ac829004"
      },
      "execution_count": 196,
      "outputs": [
        {
          "output_type": "execute_result",
          "data": {
            "text/plain": [
              "==========================================================================================\n",
              "Layer (type:depth-idx)                   Output Shape              Param #\n",
              "==========================================================================================\n",
              "Encoder                                  [1, 16, 16, 16]           --\n",
              "├─Sequential: 1-1                        [1, 16, 16, 16]           --\n",
              "│    └─Conv3d: 2-1                       [1, 64, 64, 64]           65\n",
              "│    └─MaxPool3d: 2-2                    [1, 16, 16, 16]           --\n",
              "├─Sequential: 1-2                        [64, 32, 32, 32]          --\n",
              "│    └─ConvTranspose3d: 2-3              [64, 32, 32, 32]          4,160\n",
              "├─Sequential: 1-3                        [128, 64, 64, 64]         --\n",
              "│    └─ConvTranspose3d: 2-4              [128, 64, 64, 64]         524,416\n",
              "├─Sequential: 1-4                        [64, 32, 32, 32]          --\n",
              "│    └─Conv3d: 2-5                       [64, 32, 32, 32]          524,352\n",
              "├─Sequential: 1-5                        [1, 16, 16, 16]           --\n",
              "│    └─Conv3d: 2-6                       [1, 16, 16, 16]           4,097\n",
              "==========================================================================================\n",
              "Total params: 1,057,090\n",
              "Trainable params: 1,057,090\n",
              "Non-trainable params: 0\n",
              "Total mult-adds (G): 309.58\n",
              "==========================================================================================\n",
              "Input size (MB): 8.39\n",
              "Forward/backward pass size (MB): 304.12\n",
              "Params size (MB): 4.23\n",
              "Estimated Total Size (MB): 316.74\n",
              "=========================================================================================="
            ]
          },
          "metadata": {},
          "execution_count": 196
        }
      ]
    },
    {
      "cell_type": "code",
      "source": [
        "print(output[0][10])"
      ],
      "metadata": {
        "colab": {
          "base_uri": "https://localhost:8080/"
        },
        "id": "i9mrwAeGhsn0",
        "outputId": "87661224-68ec-4ff4-86b8-d7ff8371b8ff"
      },
      "execution_count": 197,
      "outputs": [
        {
          "output_type": "stream",
          "name": "stdout",
          "text": [
            "tensor([[-0.0070, -0.0094, -0.0096, -0.0095, -0.0095, -0.0095, -0.0095, -0.0095,\n",
            "         -0.0095, -0.0097, -0.0096, -0.0095, -0.0095, -0.0095, -0.0095, -0.0117],\n",
            "        [-0.0072, -0.0090, -0.0095, -0.0095, -0.0095, -0.0095, -0.0095, -0.0093,\n",
            "         -0.0091, -0.0098, -0.0096, -0.0094, -0.0095, -0.0095, -0.0095, -0.0121],\n",
            "        [-0.0071, -0.0090, -0.0095, -0.0095, -0.0095, -0.0095, -0.0095, -0.0093,\n",
            "         -0.0092, -0.0095, -0.0097, -0.0095, -0.0095, -0.0095, -0.0095, -0.0121],\n",
            "        [-0.0071, -0.0091, -0.0095, -0.0095, -0.0095, -0.0095, -0.0095, -0.0093,\n",
            "         -0.0092, -0.0094, -0.0098, -0.0095, -0.0095, -0.0095, -0.0095, -0.0121],\n",
            "        [-0.0071, -0.0091, -0.0095, -0.0095, -0.0095, -0.0095, -0.0095, -0.0094,\n",
            "         -0.0093, -0.0093, -0.0098, -0.0095, -0.0095, -0.0095, -0.0095, -0.0121],\n",
            "        [-0.0072, -0.0091, -0.0092, -0.0093, -0.0095, -0.0095, -0.0095, -0.0094,\n",
            "         -0.0094, -0.0094, -0.0097, -0.0095, -0.0095, -0.0095, -0.0095, -0.0121],\n",
            "        [-0.0071, -0.0090, -0.0091, -0.0093, -0.0096, -0.0096, -0.0096, -0.0094,\n",
            "         -0.0094, -0.0095, -0.0097, -0.0095, -0.0095, -0.0095, -0.0095, -0.0121],\n",
            "        [-0.0071, -0.0092, -0.0086, -0.0082, -0.0094, -0.0095, -0.0095, -0.0094,\n",
            "         -0.0094, -0.0094, -0.0097, -0.0095, -0.0095, -0.0095, -0.0095, -0.0121],\n",
            "        [-0.0069, -0.0092, -0.0085, -0.0080, -0.0091, -0.0092, -0.0093, -0.0092,\n",
            "         -0.0092, -0.0094, -0.0097, -0.0095, -0.0095, -0.0095, -0.0095, -0.0121],\n",
            "        [-0.0070, -0.0095, -0.0093, -0.0087, -0.0094, -0.0095, -0.0095, -0.0093,\n",
            "         -0.0093, -0.0096, -0.0098, -0.0095, -0.0095, -0.0095, -0.0095, -0.0121],\n",
            "        [-0.0073, -0.0096, -0.0095, -0.0088, -0.0094, -0.0095, -0.0095, -0.0093,\n",
            "         -0.0093, -0.0093, -0.0097, -0.0095, -0.0095, -0.0095, -0.0095, -0.0121],\n",
            "        [-0.0073, -0.0095, -0.0094, -0.0089, -0.0093, -0.0094, -0.0095, -0.0093,\n",
            "         -0.0092, -0.0094, -0.0098, -0.0095, -0.0095, -0.0095, -0.0095, -0.0121],\n",
            "        [-0.0073, -0.0096, -0.0095, -0.0092, -0.0093, -0.0094, -0.0094, -0.0093,\n",
            "         -0.0093, -0.0090, -0.0094, -0.0094, -0.0095, -0.0095, -0.0095, -0.0121],\n",
            "        [-0.0074, -0.0095, -0.0094, -0.0098, -0.0095, -0.0092, -0.0094, -0.0093,\n",
            "         -0.0092, -0.0095, -0.0098, -0.0094, -0.0095, -0.0095, -0.0095, -0.0121],\n",
            "        [-0.0074, -0.0095, -0.0095, -0.0096, -0.0096, -0.0096, -0.0096, -0.0093,\n",
            "         -0.0093, -0.0094, -0.0098, -0.0094, -0.0095, -0.0095, -0.0095, -0.0121],\n",
            "        [-0.0076, -0.0100, -0.0100, -0.0100, -0.0100, -0.0101, -0.0100, -0.0099,\n",
            "         -0.0099, -0.0097, -0.0101, -0.0100, -0.0100, -0.0100, -0.0100, -0.0136]],\n",
            "       grad_fn=<SelectBackward0>)\n"
          ]
        }
      ]
    },
    {
      "cell_type": "code",
      "source": [],
      "metadata": {
        "id": "fnhLLRkEkZ7q"
      },
      "execution_count": null,
      "outputs": []
    }
  ]
}